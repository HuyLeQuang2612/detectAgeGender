{
 "cells": [
  {
   "cell_type": "code",
   "execution_count": 18,
   "metadata": {},
   "outputs": [],
   "source": [
    "import numpy as np\n",
    "import pandas as pd\n",
    "import tensorflow as tf\n",
    "import matplotlib.pyplot as plt"
   ]
  },
  {
   "cell_type": "code",
   "execution_count": 26,
   "metadata": {},
   "outputs": [],
   "source": [
    "def gender_value_to_label(value):\n",
    "    if value == 0:\n",
    "        return \"Male\"\n",
    "    return \"Female\"\n",
    "\n",
    "\n",
    "def getGender(pred_sex):\n",
    "    index_maxValue = pred_sex.argmax()\n",
    "    if index_maxValue == 0:\n",
    "        return \"Male\"\n",
    "    return \"Female\"\n",
    "\n",
    "\n",
    "def getRangeAge(pred_age):\n",
    "    arrRangeAge = [\"0-14\", \"14-25\", \"25-40\", \"40-60\", \"60-116\"]\n",
    "    maxIndex = list(pred_age[0]).index(max(pred_age[0]))\n",
    "    rangeAge = arrRangeAge[maxIndex] + \" years old\"\n",
    "    return rangeAge"
   ]
  },
  {
   "cell_type": "code",
   "execution_count": 20,
   "metadata": {},
   "outputs": [
    {
     "data": {
      "text/html": [
       "<div>\n",
       "<style scoped>\n",
       "    .dataframe tbody tr th:only-of-type {\n",
       "        vertical-align: middle;\n",
       "    }\n",
       "\n",
       "    .dataframe tbody tr th {\n",
       "        vertical-align: top;\n",
       "    }\n",
       "\n",
       "    .dataframe thead th {\n",
       "        text-align: right;\n",
       "    }\n",
       "</style>\n",
       "<table border=\"1\" class=\"dataframe\">\n",
       "  <thead>\n",
       "    <tr style=\"text-align: right;\">\n",
       "      <th></th>\n",
       "      <th>age</th>\n",
       "      <th>ethnicity</th>\n",
       "      <th>gender</th>\n",
       "      <th>pixels</th>\n",
       "    </tr>\n",
       "  </thead>\n",
       "  <tbody>\n",
       "    <tr>\n",
       "      <th>0</th>\n",
       "      <td>1</td>\n",
       "      <td>0</td>\n",
       "      <td>0</td>\n",
       "      <td>252 252 254 235 228 215 203 195 193 192 191 19...</td>\n",
       "    </tr>\n",
       "    <tr>\n",
       "      <th>1</th>\n",
       "      <td>1</td>\n",
       "      <td>0</td>\n",
       "      <td>0</td>\n",
       "      <td>234 234 234 234 233 229 218 220 216 217 214 21...</td>\n",
       "    </tr>\n",
       "    <tr>\n",
       "      <th>2</th>\n",
       "      <td>1</td>\n",
       "      <td>0</td>\n",
       "      <td>0</td>\n",
       "      <td>210 206 169 161 166 172 173 176 177 190 198 20...</td>\n",
       "    </tr>\n",
       "    <tr>\n",
       "      <th>3</th>\n",
       "      <td>1</td>\n",
       "      <td>0</td>\n",
       "      <td>0</td>\n",
       "      <td>155 176 207 212 212 216 211 214 219 226 228 23...</td>\n",
       "    </tr>\n",
       "    <tr>\n",
       "      <th>4</th>\n",
       "      <td>1</td>\n",
       "      <td>0</td>\n",
       "      <td>0</td>\n",
       "      <td>96 138 173 204 223 215 211 212 207 206 204 195...</td>\n",
       "    </tr>\n",
       "  </tbody>\n",
       "</table>\n",
       "</div>"
      ],
      "text/plain": [
       "   age  ethnicity  gender                                             pixels\n",
       "0    1          0       0  252 252 254 235 228 215 203 195 193 192 191 19...\n",
       "1    1          0       0  234 234 234 234 233 229 218 220 216 217 214 21...\n",
       "2    1          0       0  210 206 169 161 166 172 173 176 177 190 198 20...\n",
       "3    1          0       0  155 176 207 212 212 216 211 214 219 226 228 23...\n",
       "4    1          0       0  96 138 173 204 223 215 211 212 207 206 204 195..."
      ]
     },
     "execution_count": 20,
     "metadata": {},
     "output_type": "execute_result"
    }
   ],
   "source": [
    "df = pd.read_csv(\"age_gender.csv\")\n",
    "df = df.drop(\"img_name\", axis=1)\n",
    "df.head()"
   ]
  },
  {
   "cell_type": "code",
   "execution_count": 21,
   "metadata": {},
   "outputs": [],
   "source": [
    "columns = [\"age\",\"gender\",\"ethnicity\"]\n",
    "x = df.drop(columns, axis = 1)"
   ]
  },
  {
   "cell_type": "code",
   "execution_count": 23,
   "metadata": {},
   "outputs": [
    {
     "name": "stdout",
     "output_type": "stream",
     "text": [
      "[[252. 252. 254. ... 134. 133. 129.]\n",
      " [252. 252. 252. ... 134. 133. 129.]\n",
      " [249. 249. 251. ... 135. 132. 128.]\n",
      " ...\n",
      " [226. 225. 224. ... 144. 140. 149.]\n",
      " [228. 228. 225. ... 154. 160. 166.]\n",
      " [228. 228. 226. ... 169. 170. 173.]]\n"
     ]
    }
   ],
   "source": [
    "# Reshape Data\n",
    "x = pd.Series(x['pixels'])\n",
    "x = x.apply(lambda x: np.reshape(np.array(x.split(' '), dtype='float32'), (48, 48)))\n",
    "print(x[0])"
   ]
  },
  {
   "cell_type": "code",
   "execution_count": 42,
   "metadata": {},
   "outputs": [
    {
     "name": "stdout",
     "output_type": "stream",
     "text": [
      "index: 19\n",
      "Actual:\n",
      "Age: 1\n",
      "Sex: Male\n"
     ]
    },
    {
     "data": {
      "image/png": "[encoded data removed]",
      "text/plain": [
       "<Figure size 432x288 with 1 Axes>"
      ]
     },
     "metadata": {
      "needs_background": "light"
     },
     "output_type": "display_data"
    },
    {
     "name": "stdout",
     "output_type": "stream",
     "text": [
      "1/1 [==============================] - 1s 1s/step\n",
      "Predicted EfficientNetB0 model:\n",
      "Age: 0-14: 100.0%, 14-25: 0.0%, 25-40: 0.0%, 40-60: 0.0%, 60-116: 0.0%\n",
      "-> 0-14 years old\n",
      "Sex: Male: 88.85%, Female: 11.15%\n",
      "-> Male\n",
      "1/1 [==============================] - 2s 2s/step\n",
      "Predicted EfficientNetB2 model:\n",
      "Age: 0-14: 99.88%, 14-25: 0.06%, 25-40: 0.03%, 40-60: 0.0%, 60-116: 0.02%\n",
      "-> 0-14 years old\n",
      "Sex: Male: 90.4%, Female: 9.6%\n",
      "-> Male\n",
      "1/1 [==============================] - 2s 2s/step\n",
      "Predicted EfficientNetB4 model:\n",
      "Age: 0-14: 98.83%, 14-25: 0.66%, 25-40: 0.4%, 40-60: 0.08%, 60-116: 0.03%\n",
      "-> 0-14 years old\n",
      "Sex: Male: 56.24%, Female: 43.76%\n",
      "-> Male\n",
      "1/1 [==============================] - 4s 4s/step\n",
      "Predicted EfficientNetB7 model:\n",
      "Age: 0-14: 98.84%, 14-25: 0.85%, 25-40: 0.24%, 40-60: 0.04%, 60-116: 0.02%\n",
      "-> 0-14 years old\n",
      "Sex: Male: 47.42%, Female: 52.58%\n",
      "-> Female\n"
     ]
    }
   ],
   "source": [
    "ind = 19\n",
    "print(\"index: \" + str(ind))\n",
    "print(\"Actual:\")\n",
    "print(\"Age: \"+ str(df[\"age\"][ind]))\n",
    "print(\"Sex: \"+ gender_value_to_label(df[\"gender\"][ind]))\n",
    "plt.imshow(x[ind], cmap='gray')\n",
    "plt.show()\n",
    "\n",
    "arr3d = np.zeros((48, 48, 3))\n",
    "arr3d[:, :, 0] = arr3d[:, :, 1] = arr3d[:, :, 2] = x[ind]\n",
    "pixels = arr3d\n",
    "\n",
    "efficientNet_versions = [\"B0\", \"B2\", \"B4\", \"B7\"]\n",
    "for ver in efficientNet_versions:\n",
    "    model_path = 'saved_model/efficientNet' + ver + '_weight.h5'\n",
    "    model = tf.keras.models.load_model(model_path)\n",
    "    pred = model.predict(np.array([pixels]))\n",
    "    pred_age = pred[0][0]\n",
    "    pred_gender = pred[1][0]\n",
    "    print(\"Predicted EfficientNet\" + ver + \" model:\")\n",
    "    print(f\"Age: 0-14: {round(pred_age[0] * 100, 2)}%, 14-25: {round(pred_age[1] * 100, 2)}%, 25-40: {round(pred_age[2] * 100, 2)}%, 40-60: {round(pred_age[3] * 100, 2)}%, 60-116: {round(pred_age[4] * 100, 2)}%\")\n",
    "    print(\"-> \"+ getRangeAge(pred[0]))\n",
    "    print(f\"Sex: Male: {round(pred_gender[0] * 100, 2)}%, Female: {round(pred_gender[1] * 100, 2)}%\")\n",
    "    print(\"-> \"+ getGender(pred[1]))"
   ]
  }
 ],
 "metadata": {
  "kernelspec": {
   "display_name": "Python 3.10.1 64-bit",
   "language": "python",
   "name": "python3"
  },
  "language_info": {
   "codemirror_mode": {
    "name": "ipython",
    "version": 3
   },
   "file_extension": ".py",
   "mimetype": "text/x-python",
   "name": "python",
   "nbconvert_exporter": "python",
   "pygments_lexer": "ipython3",
   "version": "3.10.1"
  },
  "orig_nbformat": 4,
  "vscode": {
   "interpreter": {
    "hash": "8b8369acd7926c55bea8eb56c75a20d276b846a93923ad1a7bdf447e596898fc"
   }
  }
 },
 "nbformat": 4,
 "nbformat_minor": 2
}
